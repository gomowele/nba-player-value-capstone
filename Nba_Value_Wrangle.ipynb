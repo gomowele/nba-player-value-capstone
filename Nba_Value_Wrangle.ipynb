{
 "cells": [
  {
   "cell_type": "markdown",
   "metadata": {},
   "source": [
    "# NBA Player Value Analysis - Capstone Two (Data Wrangling)\n",
    "\n",
    "This notebook performs data wrangling on NBA player statistics and salary data to prepare for a value analysis of player performance vs. salary."
   ]
  },
  {
   "cell_type": "code",
   "execution_count": 2,
   "metadata": {},
   "outputs": [],
   "source": [
    "# 1. Load Required Libraries\n",
    "import pandas as pd"
   ]
  },
  {
   "cell_type": "code",
   "execution_count": 4,
   "metadata": {},
   "outputs": [],
   "source": [
    "# 2. Load Datasets\n",
    "stats = pd.read_csv(\"nba_player_stats.csv\")\n",
    "adv_stats = pd.read_csv(\"advanced_player_stats.csv\")\n",
    "salary = pd.read_csv(\"nba_salary.csv\", header=1)"
   ]
  },
  {
   "cell_type": "code",
   "execution_count": 6,
   "metadata": {},
   "outputs": [
    {
     "name": "stdout",
     "output_type": "stream",
     "text": [
      "Player Stats Columns: ['Rk', 'Player', 'Age', 'Team', 'Pos', 'G', 'GS', 'MP', 'FG', 'FGA', 'FG%', '3P', '3PA', '3P%', '2P', '2PA', '2P%', 'eFG%', 'FT', 'FTA', 'FT%', 'ORB', 'DRB', 'TRB', 'AST', 'STL', 'BLK', 'TOV', 'PF', 'PTS', 'Awards']\n",
      "Advanced Stats Columns: ['Rk', 'Player', 'Age', 'Team', 'Pos', 'G', 'GS', 'MP', 'PER', 'TS%', '3PAr', 'FTr', 'ORB%', 'DRB%', 'TRB%', 'AST%', 'STL%', 'BLK%', 'TOV%', 'USG%', 'OWS', 'DWS', 'WS', 'WS/48', 'OBPM', 'DBPM', 'BPM', 'VORP', 'Awards']\n",
      "Salary Columns: ['1', 'Stephen Curry', 'GSW', '$55,761,216 ', '$59,606,817 ', '$62,587,158 ', 'Unnamed: 6', 'Unnamed: 7', 'Unnamed: 8', '$177,955,191 ']\n"
     ]
    }
   ],
   "source": [
    "# 3. Initial Inspection of Datasets\n",
    "print(\"Player Stats Columns:\", stats.columns.tolist())\n",
    "print(\"Advanced Stats Columns:\", adv_stats.columns.tolist())\n",
    "print(\"Salary Columns:\", salary.columns.tolist())"
   ]
  },
  {
   "cell_type": "code",
   "execution_count": 8,
   "metadata": {},
   "outputs": [],
   "source": [
    "# 4. Column Cleaning and Selection\n",
    "stats = stats[[\"Player\", \"Pos\", \"Team\", \"G\", \"MP\", \"PTS\", \"TRB\", \"AST\"]]\n",
    "adv_stats = adv_stats[[\"Player\", \"WS\", \"BPM\"]]\n",
    "salary.columns = [\"Rk\", \"Player\", \"Tm\", \"2024-25\", \"2025-26\", \"2026-27\", \"2027-28\", \"2028-29\", \"2029-30\", \"Guaranteed\"]\n",
    "salary = salary[[\"Player\", \"2024-25\"]].rename(columns={\"2024-25\": \"Salary\"})"
   ]
  },
  {
   "cell_type": "code",
   "execution_count": 10,
   "metadata": {},
   "outputs": [],
   "source": [
    "# 5. Clean Salary Data\n",
    "salary[\"Salary\"] = salary[\"Salary\"].replace(r'[\\$,]', '', regex=True).astype(float)"
   ]
  },
  {
   "cell_type": "code",
   "execution_count": 12,
   "metadata": {},
   "outputs": [],
   "source": [
    "# 6. Merge Datasets\n",
    "merged = pd.merge(stats, adv_stats, on=\"Player\", how=\"inner\")\n",
    "merged = pd.merge(merged, salary, on=\"Player\", how=\"inner\")"
   ]
  },
  {
   "cell_type": "code",
   "execution_count": 14,
   "metadata": {},
   "outputs": [],
   "source": [
    "# 7. Handle Missing Values\n",
    "merged = merged.dropna(subset=[\"Salary\"])"
   ]
  },
  {
   "cell_type": "code",
   "execution_count": 16,
   "metadata": {},
   "outputs": [],
   "source": [
    "# 8. Create Value Metric\n",
    "merged[\"Value_per_Million\"] = merged[\"WS\"] / (merged[\"Salary\"] / 1_000_000)"
   ]
  },
  {
   "cell_type": "code",
   "execution_count": 18,
   "metadata": {},
   "outputs": [
    {
     "name": "stdout",
     "output_type": "stream",
     "text": [
      "             Player Pos Team     G      MP   PTS   TRB  AST    WS  BPM  \\\n",
      "0     DeMar DeRozan  SF  CHI  79.0  2989.0  22.8   4.1  5.1   7.1 -0.1   \n",
      "1  Domantas Sabonis   C  SAC  82.0  2928.0  19.6  13.8  8.3  10.1  5.2   \n",
      "2        Coby White  PG  CHI  79.0  2881.0  18.9   4.5  5.1   4.5 -0.9   \n",
      "3     Mikal Bridges  SF  BRK  82.0  2854.0  20.3   4.7  3.8   5.7 -0.5   \n",
      "4    Paolo Banchero  PF  ORL  80.0  2799.0  23.2   7.1  5.5   3.5  3.5   \n",
      "\n",
      "       Salary  Value_per_Million  \n",
      "0  23400000.0           0.303419  \n",
      "1  40500000.0           0.249383  \n",
      "2  12000000.0           0.375000  \n",
      "3  23300000.0           0.244635  \n",
      "4  12160800.0           0.287810  \n"
     ]
    }
   ],
   "source": [
    "# 9. Final Data Preview\n",
    "print(merged.head())"
   ]
  },
  {
   "cell_type": "code",
   "execution_count": 23,
   "metadata": {},
   "outputs": [],
   "source": [
    "# 10. Export Final Dataset\n",
    "merged.to_csv(\"cleaned_nba_value_data.csv\", index=False)"
   ]
  },
  {
   "cell_type": "markdown",
   "metadata": {},
   "source": [
    "## Summary of Cleaning Steps\n",
    "- Standardized column names across datasets.\n",
    "- Removed header artifacts by using proper row as header.\n",
    "- Cleaned the salary column by removing dollar signs and commas.\n",
    "- Dropped rows with missing salary values.\n",
    "- Merged three datasets (stats, advanced stats, salary).\n",
    "- Created a performance value metric for later analysis.\n",
    "\n",
    "## Next Step (EDA/Modeling)\n",
    "- Perform exploratory analysis to visualize and understand player value.\n",
    "- Build a regression model to predict expected salary from performance metrics."
   ]
  },
  {
   "cell_type": "code",
   "execution_count": null,
   "metadata": {},
   "outputs": [],
   "source": []
  }
 ],
 "metadata": {
  "kernelspec": {
   "display_name": "Python [conda env:base] *",
   "language": "python",
   "name": "conda-base-py"
  },
  "language_info": {
   "codemirror_mode": {
    "name": "ipython",
    "version": 3
   },
   "file_extension": ".py",
   "mimetype": "text/x-python",
   "name": "python",
   "nbconvert_exporter": "python",
   "pygments_lexer": "ipython3",
   "version": "3.12.2"
  }
 },
 "nbformat": 4,
 "nbformat_minor": 4
}
