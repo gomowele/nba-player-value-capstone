{
 "cells": [
  {
   "cell_type": "markdown",
   "id": "6a5a4c19",
   "metadata": {},
   "source": [
    "## Data Source\n",
    "The data used in this assignment was downloaded from [basketball-reference.com](https://www.basketball-reference.com).\n",
    "\n",
    "**Files used:**\n",
    "- nba_salary.csv\n",
    "- advanced_player_stats.csv\n",
    "- nba_player_stats.csv"
   ]
  },
  {
   "cell_type": "markdown",
   "id": "9d332fa3",
   "metadata": {},
   "source": [
    "## 1. Import libraries"
   ]
  },
  {
   "cell_type": "code",
   "execution_count": 3,
   "id": "4d065e30",
   "metadata": {},
   "outputs": [],
   "source": [
    "import pandas as pd\n",
    "import numpy as np"
   ]
  },
  {
   "cell_type": "markdown",
   "id": "fc20fb17",
   "metadata": {},
   "source": [
    "## 2. NBA Salary Data\n",
    "### Load and Preview"
   ]
  },
  {
   "cell_type": "code",
   "execution_count": 6,
   "id": "db367f91",
   "metadata": {},
   "outputs": [
    {
     "data": {
      "text/html": [
       "<div>\n",
       "<style scoped>\n",
       "    .dataframe tbody tr th:only-of-type {\n",
       "        vertical-align: middle;\n",
       "    }\n",
       "\n",
       "    .dataframe tbody tr th {\n",
       "        vertical-align: top;\n",
       "    }\n",
       "\n",
       "    .dataframe thead th {\n",
       "        text-align: right;\n",
       "    }\n",
       "</style>\n",
       "<table border=\"1\" class=\"dataframe\">\n",
       "  <thead>\n",
       "    <tr style=\"text-align: right;\">\n",
       "      <th></th>\n",
       "      <th>Rk</th>\n",
       "      <th>Player</th>\n",
       "      <th>Tm</th>\n",
       "      <th>2024-25</th>\n",
       "      <th>2025-26</th>\n",
       "      <th>2026-27</th>\n",
       "      <th>2027-28</th>\n",
       "      <th>2028-29</th>\n",
       "      <th>2029-30</th>\n",
       "      <th>Guaranteed</th>\n",
       "    </tr>\n",
       "  </thead>\n",
       "  <tbody>\n",
       "    <tr>\n",
       "      <th>0</th>\n",
       "      <td>1</td>\n",
       "      <td>Stephen Curry</td>\n",
       "      <td>GSW</td>\n",
       "      <td>$55,761,216</td>\n",
       "      <td>$59,606,817</td>\n",
       "      <td>$62,587,158</td>\n",
       "      <td>NaN</td>\n",
       "      <td>NaN</td>\n",
       "      <td>NaN</td>\n",
       "      <td>$177,955,191</td>\n",
       "    </tr>\n",
       "    <tr>\n",
       "      <th>1</th>\n",
       "      <td>2</td>\n",
       "      <td>Joel Embiid</td>\n",
       "      <td>PHI</td>\n",
       "      <td>$51,415,938</td>\n",
       "      <td>$55,224,526</td>\n",
       "      <td>$57,985,752</td>\n",
       "      <td>$62,624,612</td>\n",
       "      <td>$67,263,472</td>\n",
       "      <td>NaN</td>\n",
       "      <td>$227,250,828</td>\n",
       "    </tr>\n",
       "    <tr>\n",
       "      <th>2</th>\n",
       "      <td>3</td>\n",
       "      <td>Nikola Jokić</td>\n",
       "      <td>DEN</td>\n",
       "      <td>$51,415,938</td>\n",
       "      <td>$55,224,526</td>\n",
       "      <td>$59,033,114</td>\n",
       "      <td>$62,841,702</td>\n",
       "      <td>NaN</td>\n",
       "      <td>NaN</td>\n",
       "      <td>$165,673,578</td>\n",
       "    </tr>\n",
       "    <tr>\n",
       "      <th>3</th>\n",
       "      <td>4</td>\n",
       "      <td>Kevin Durant</td>\n",
       "      <td>PHO</td>\n",
       "      <td>$51,179,021</td>\n",
       "      <td>$54,708,609</td>\n",
       "      <td>NaN</td>\n",
       "      <td>NaN</td>\n",
       "      <td>NaN</td>\n",
       "      <td>NaN</td>\n",
       "      <td>$105,887,630</td>\n",
       "    </tr>\n",
       "    <tr>\n",
       "      <th>4</th>\n",
       "      <td>5</td>\n",
       "      <td>Bradley Beal</td>\n",
       "      <td>PHO</td>\n",
       "      <td>$50,203,930</td>\n",
       "      <td>$53,666,270</td>\n",
       "      <td>$57,128,610</td>\n",
       "      <td>NaN</td>\n",
       "      <td>NaN</td>\n",
       "      <td>NaN</td>\n",
       "      <td>$103,870,200</td>\n",
       "    </tr>\n",
       "  </tbody>\n",
       "</table>\n",
       "</div>"
      ],
      "text/plain": [
       "   Rk         Player   Tm       2024-25       2025-26       2026-27  \\\n",
       "0   1  Stephen Curry  GSW  $55,761,216   $59,606,817   $62,587,158    \n",
       "1   2    Joel Embiid  PHI  $51,415,938   $55,224,526   $57,985,752    \n",
       "2   3   Nikola Jokić  DEN  $51,415,938   $55,224,526   $59,033,114    \n",
       "3   4   Kevin Durant  PHO  $51,179,021   $54,708,609            NaN   \n",
       "4   5   Bradley Beal  PHO  $50,203,930   $53,666,270   $57,128,610    \n",
       "\n",
       "        2027-28       2028-29 2029-30     Guaranteed  \n",
       "0           NaN           NaN     NaN  $177,955,191   \n",
       "1  $62,624,612   $67,263,472      NaN  $227,250,828   \n",
       "2  $62,841,702            NaN     NaN  $165,673,578   \n",
       "3           NaN           NaN     NaN  $105,887,630   \n",
       "4           NaN           NaN     NaN  $103,870,200   "
      ]
     },
     "execution_count": 6,
     "metadata": {},
     "output_type": "execute_result"
    }
   ],
   "source": [
    "salary_df = pd.read_csv('nba_salary.csv')\n",
    "salary_df.head()"
   ]
  },
  {
   "cell_type": "markdown",
   "id": "e407cc84",
   "metadata": {},
   "source": [
    "#### Check missing values"
   ]
  },
  {
   "cell_type": "code",
   "execution_count": 9,
   "id": "9b07ba83",
   "metadata": {},
   "outputs": [
    {
     "data": {
      "text/plain": [
       "Rk              0\n",
       "Player          0\n",
       "Tm              0\n",
       "2024-25         0\n",
       "2025-26       179\n",
       "2026-27       324\n",
       "2027-28       438\n",
       "2028-29       526\n",
       "2029-30       555\n",
       "Guaranteed      1\n",
       "dtype: int64"
      ]
     },
     "execution_count": 9,
     "metadata": {},
     "output_type": "execute_result"
    }
   ],
   "source": [
    "salary_df.isnull().sum()"
   ]
  },
  {
   "cell_type": "markdown",
   "id": "01a26f7a",
   "metadata": {},
   "source": [
    "#### Check for duplicates"
   ]
  },
  {
   "cell_type": "code",
   "execution_count": 12,
   "id": "d413c2d5",
   "metadata": {},
   "outputs": [
    {
     "data": {
      "text/plain": [
       "0"
      ]
     },
     "execution_count": 12,
     "metadata": {},
     "output_type": "execute_result"
    }
   ],
   "source": [
    "salary_df.duplicated().sum()"
   ]
  },
  {
   "cell_type": "markdown",
   "id": "b6b2ec8c",
   "metadata": {},
   "source": [
    "#### Check data types"
   ]
  },
  {
   "cell_type": "code",
   "execution_count": 15,
   "id": "e8219386",
   "metadata": {},
   "outputs": [
    {
     "data": {
      "text/plain": [
       "Rk             int64\n",
       "Player        object\n",
       "Tm            object\n",
       "2024-25       object\n",
       "2025-26       object\n",
       "2026-27       object\n",
       "2027-28       object\n",
       "2028-29       object\n",
       "2029-30       object\n",
       "Guaranteed    object\n",
       "dtype: object"
      ]
     },
     "execution_count": 15,
     "metadata": {},
     "output_type": "execute_result"
    }
   ],
   "source": [
    "salary_df.dtypes"
   ]
  },
  {
   "cell_type": "markdown",
   "id": "b1667ee3",
   "metadata": {},
   "source": [
    "#### (If needed) Example of fixing a data type or trimming whitespace\n",
    "*(Not applied here if not needed, just demonstrating process.)*"
   ]
  },
  {
   "cell_type": "code",
   "execution_count": 18,
   "id": "70f22b8d",
   "metadata": {},
   "outputs": [],
   "source": [
    "# Example only: Convert salary to numeric if needed\n",
    "# salary_df['Salary'] = salary_df['Salary'].replace('[\\$,]', '', regex=True).astype(float)"
   ]
  },
  {
   "cell_type": "markdown",
   "id": "8f974b49",
   "metadata": {},
   "source": [
    "#### Save checked salary data"
   ]
  },
  {
   "cell_type": "code",
   "execution_count": 21,
   "id": "54c4e268",
   "metadata": {},
   "outputs": [],
   "source": [
    "salary_df.to_csv('nba_salary_checked.csv', index=False)"
   ]
  },
  {
   "cell_type": "markdown",
   "id": "2f443adc",
   "metadata": {},
   "source": [
    "## 3. Advanced Player Stats Data\n",
    "### Load and Preview"
   ]
  },
  {
   "cell_type": "code",
   "execution_count": 24,
   "id": "55649c79",
   "metadata": {},
   "outputs": [
    {
     "data": {
      "text/html": [
       "<div>\n",
       "<style scoped>\n",
       "    .dataframe tbody tr th:only-of-type {\n",
       "        vertical-align: middle;\n",
       "    }\n",
       "\n",
       "    .dataframe tbody tr th {\n",
       "        vertical-align: top;\n",
       "    }\n",
       "\n",
       "    .dataframe thead th {\n",
       "        text-align: right;\n",
       "    }\n",
       "</style>\n",
       "<table border=\"1\" class=\"dataframe\">\n",
       "  <thead>\n",
       "    <tr style=\"text-align: right;\">\n",
       "      <th></th>\n",
       "      <th>Rk</th>\n",
       "      <th>Player</th>\n",
       "      <th>Age</th>\n",
       "      <th>Team</th>\n",
       "      <th>Pos</th>\n",
       "      <th>G</th>\n",
       "      <th>GS</th>\n",
       "      <th>MP</th>\n",
       "      <th>PER</th>\n",
       "      <th>TS%</th>\n",
       "      <th>...</th>\n",
       "      <th>USG%</th>\n",
       "      <th>OWS</th>\n",
       "      <th>DWS</th>\n",
       "      <th>WS</th>\n",
       "      <th>WS/48</th>\n",
       "      <th>OBPM</th>\n",
       "      <th>DBPM</th>\n",
       "      <th>BPM</th>\n",
       "      <th>VORP</th>\n",
       "      <th>Awards</th>\n",
       "    </tr>\n",
       "  </thead>\n",
       "  <tbody>\n",
       "    <tr>\n",
       "      <th>0</th>\n",
       "      <td>1</td>\n",
       "      <td>Mikal Bridges</td>\n",
       "      <td>28</td>\n",
       "      <td>NYK</td>\n",
       "      <td>SF</td>\n",
       "      <td>82</td>\n",
       "      <td>82</td>\n",
       "      <td>3036</td>\n",
       "      <td>14.0</td>\n",
       "      <td>0.585</td>\n",
       "      <td>...</td>\n",
       "      <td>19.6</td>\n",
       "      <td>3.7</td>\n",
       "      <td>2.0</td>\n",
       "      <td>5.7</td>\n",
       "      <td>0.090</td>\n",
       "      <td>0.4</td>\n",
       "      <td>-0.9</td>\n",
       "      <td>-0.5</td>\n",
       "      <td>1.2</td>\n",
       "      <td>NaN</td>\n",
       "    </tr>\n",
       "    <tr>\n",
       "      <th>1</th>\n",
       "      <td>2</td>\n",
       "      <td>Josh Hart</td>\n",
       "      <td>29</td>\n",
       "      <td>NYK</td>\n",
       "      <td>SG</td>\n",
       "      <td>77</td>\n",
       "      <td>77</td>\n",
       "      <td>2897</td>\n",
       "      <td>16.5</td>\n",
       "      <td>0.611</td>\n",
       "      <td>...</td>\n",
       "      <td>15.3</td>\n",
       "      <td>5.4</td>\n",
       "      <td>3.8</td>\n",
       "      <td>9.2</td>\n",
       "      <td>0.153</td>\n",
       "      <td>1.1</td>\n",
       "      <td>1.8</td>\n",
       "      <td>2.8</td>\n",
       "      <td>3.6</td>\n",
       "      <td>NaN</td>\n",
       "    </tr>\n",
       "    <tr>\n",
       "      <th>2</th>\n",
       "      <td>3</td>\n",
       "      <td>Anthony Edwards</td>\n",
       "      <td>23</td>\n",
       "      <td>MIN</td>\n",
       "      <td>SG</td>\n",
       "      <td>79</td>\n",
       "      <td>79</td>\n",
       "      <td>2871</td>\n",
       "      <td>20.1</td>\n",
       "      <td>0.595</td>\n",
       "      <td>...</td>\n",
       "      <td>31.4</td>\n",
       "      <td>4.6</td>\n",
       "      <td>3.8</td>\n",
       "      <td>8.4</td>\n",
       "      <td>0.140</td>\n",
       "      <td>4.4</td>\n",
       "      <td>0.0</td>\n",
       "      <td>4.3</td>\n",
       "      <td>4.6</td>\n",
       "      <td>NaN</td>\n",
       "    </tr>\n",
       "    <tr>\n",
       "      <th>3</th>\n",
       "      <td>4</td>\n",
       "      <td>Devin Booker</td>\n",
       "      <td>28</td>\n",
       "      <td>PHO</td>\n",
       "      <td>SG</td>\n",
       "      <td>75</td>\n",
       "      <td>75</td>\n",
       "      <td>2795</td>\n",
       "      <td>19.3</td>\n",
       "      <td>0.589</td>\n",
       "      <td>...</td>\n",
       "      <td>29.3</td>\n",
       "      <td>6.1</td>\n",
       "      <td>0.3</td>\n",
       "      <td>6.4</td>\n",
       "      <td>0.111</td>\n",
       "      <td>2.8</td>\n",
       "      <td>-2.4</td>\n",
       "      <td>0.4</td>\n",
       "      <td>1.7</td>\n",
       "      <td>NaN</td>\n",
       "    </tr>\n",
       "    <tr>\n",
       "      <th>4</th>\n",
       "      <td>5</td>\n",
       "      <td>James Harden</td>\n",
       "      <td>35</td>\n",
       "      <td>LAC</td>\n",
       "      <td>PG</td>\n",
       "      <td>79</td>\n",
       "      <td>79</td>\n",
       "      <td>2789</td>\n",
       "      <td>20.0</td>\n",
       "      <td>0.582</td>\n",
       "      <td>...</td>\n",
       "      <td>29.6</td>\n",
       "      <td>4.0</td>\n",
       "      <td>4.3</td>\n",
       "      <td>8.3</td>\n",
       "      <td>0.143</td>\n",
       "      <td>3.5</td>\n",
       "      <td>0.8</td>\n",
       "      <td>4.3</td>\n",
       "      <td>4.4</td>\n",
       "      <td>NaN</td>\n",
       "    </tr>\n",
       "  </tbody>\n",
       "</table>\n",
       "<p>5 rows × 29 columns</p>\n",
       "</div>"
      ],
      "text/plain": [
       "   Rk           Player  Age Team Pos   G  GS    MP   PER    TS%  ...  USG%  \\\n",
       "0   1    Mikal Bridges   28  NYK  SF  82  82  3036  14.0  0.585  ...  19.6   \n",
       "1   2        Josh Hart   29  NYK  SG  77  77  2897  16.5  0.611  ...  15.3   \n",
       "2   3  Anthony Edwards   23  MIN  SG  79  79  2871  20.1  0.595  ...  31.4   \n",
       "3   4     Devin Booker   28  PHO  SG  75  75  2795  19.3  0.589  ...  29.3   \n",
       "4   5     James Harden   35  LAC  PG  79  79  2789  20.0  0.582  ...  29.6   \n",
       "\n",
       "   OWS  DWS   WS  WS/48  OBPM  DBPM  BPM  VORP  Awards  \n",
       "0  3.7  2.0  5.7  0.090   0.4  -0.9 -0.5   1.2     NaN  \n",
       "1  5.4  3.8  9.2  0.153   1.1   1.8  2.8   3.6     NaN  \n",
       "2  4.6  3.8  8.4  0.140   4.4   0.0  4.3   4.6     NaN  \n",
       "3  6.1  0.3  6.4  0.111   2.8  -2.4  0.4   1.7     NaN  \n",
       "4  4.0  4.3  8.3  0.143   3.5   0.8  4.3   4.4     NaN  \n",
       "\n",
       "[5 rows x 29 columns]"
      ]
     },
     "execution_count": 24,
     "metadata": {},
     "output_type": "execute_result"
    }
   ],
   "source": [
    "adv_stats_df = pd.read_csv('advanced_player_stats.csv')\n",
    "adv_stats_df.head()"
   ]
  },
  {
   "cell_type": "markdown",
   "id": "a5eda7ec",
   "metadata": {},
   "source": [
    "#### Check missing values"
   ]
  },
  {
   "cell_type": "code",
   "execution_count": 27,
   "id": "1f3316a1",
   "metadata": {},
   "outputs": [
    {
     "data": {
      "text/plain": [
       "Rk          0\n",
       "Player      0\n",
       "Age         0\n",
       "Team        0\n",
       "Pos         0\n",
       "G           0\n",
       "GS          0\n",
       "MP          0\n",
       "PER         0\n",
       "TS%         4\n",
       "3PAr        4\n",
       "FTr         4\n",
       "ORB%        1\n",
       "DRB%        1\n",
       "TRB%        1\n",
       "AST%        1\n",
       "STL%        1\n",
       "BLK%        1\n",
       "TOV%        3\n",
       "USG%        1\n",
       "OWS         1\n",
       "DWS         1\n",
       "WS          1\n",
       "WS/48       1\n",
       "OBPM        1\n",
       "DBPM        1\n",
       "BPM         1\n",
       "VORP        1\n",
       "Awards    735\n",
       "dtype: int64"
      ]
     },
     "execution_count": 27,
     "metadata": {},
     "output_type": "execute_result"
    }
   ],
   "source": [
    "adv_stats_df.isnull().sum()"
   ]
  },
  {
   "cell_type": "markdown",
   "id": "468451c0",
   "metadata": {},
   "source": [
    "#### Check for duplicates"
   ]
  },
  {
   "cell_type": "code",
   "execution_count": 30,
   "id": "4f6321e9",
   "metadata": {},
   "outputs": [
    {
     "data": {
      "text/plain": [
       "0"
      ]
     },
     "execution_count": 30,
     "metadata": {},
     "output_type": "execute_result"
    }
   ],
   "source": [
    "adv_stats_df.duplicated().sum()"
   ]
  },
  {
   "cell_type": "markdown",
   "id": "f6391dca",
   "metadata": {},
   "source": [
    "#### Check data types"
   ]
  },
  {
   "cell_type": "code",
   "execution_count": 33,
   "id": "82ca21fa",
   "metadata": {},
   "outputs": [
    {
     "data": {
      "text/plain": [
       "Rk          int64\n",
       "Player     object\n",
       "Age         int64\n",
       "Team       object\n",
       "Pos        object\n",
       "G           int64\n",
       "GS          int64\n",
       "MP          int64\n",
       "PER       float64\n",
       "TS%       float64\n",
       "3PAr      float64\n",
       "FTr       float64\n",
       "ORB%      float64\n",
       "DRB%      float64\n",
       "TRB%      float64\n",
       "AST%      float64\n",
       "STL%      float64\n",
       "BLK%      float64\n",
       "TOV%      float64\n",
       "USG%      float64\n",
       "OWS       float64\n",
       "DWS       float64\n",
       "WS        float64\n",
       "WS/48     float64\n",
       "OBPM      float64\n",
       "DBPM      float64\n",
       "BPM       float64\n",
       "VORP      float64\n",
       "Awards    float64\n",
       "dtype: object"
      ]
     },
     "execution_count": 33,
     "metadata": {},
     "output_type": "execute_result"
    }
   ],
   "source": [
    "adv_stats_df.dtypes"
   ]
  },
  {
   "cell_type": "markdown",
   "id": "c970442f",
   "metadata": {},
   "source": [
    "#### (If needed) Example of fixing a data type or trimming whitespace\n",
    "*(Not applied here if not needed, just demonstrating process.)*"
   ]
  },
  {
   "cell_type": "code",
   "execution_count": 36,
   "id": "1fdd5288",
   "metadata": {},
   "outputs": [],
   "source": [
    "# Example only: Convert a stat column to float if needed\n",
    "# adv_stats_df['BPM'] = adv_stats_df['BPM'].astype(float)"
   ]
  },
  {
   "cell_type": "markdown",
   "id": "e422f4a7",
   "metadata": {},
   "source": [
    "#### Save checked advanced player stats data"
   ]
  },
  {
   "cell_type": "code",
   "execution_count": 39,
   "id": "dbb13587",
   "metadata": {},
   "outputs": [],
   "source": [
    "adv_stats_df.to_csv('advanced_player_stats_checked.csv', index=False)"
   ]
  },
  {
   "cell_type": "markdown",
   "id": "78f77b61",
   "metadata": {},
   "source": [
    "## 4. NBA Player Stats Data\n",
    "### Load and Preview"
   ]
  },
  {
   "cell_type": "code",
   "execution_count": 42,
   "id": "c1057182",
   "metadata": {},
   "outputs": [
    {
     "data": {
      "text/html": [
       "<div>\n",
       "<style scoped>\n",
       "    .dataframe tbody tr th:only-of-type {\n",
       "        vertical-align: middle;\n",
       "    }\n",
       "\n",
       "    .dataframe tbody tr th {\n",
       "        vertical-align: top;\n",
       "    }\n",
       "\n",
       "    .dataframe thead th {\n",
       "        text-align: right;\n",
       "    }\n",
       "</style>\n",
       "<table border=\"1\" class=\"dataframe\">\n",
       "  <thead>\n",
       "    <tr style=\"text-align: right;\">\n",
       "      <th></th>\n",
       "      <th>Rk</th>\n",
       "      <th>Player</th>\n",
       "      <th>Age</th>\n",
       "      <th>Team</th>\n",
       "      <th>Pos</th>\n",
       "      <th>G</th>\n",
       "      <th>GS</th>\n",
       "      <th>MP</th>\n",
       "      <th>FG</th>\n",
       "      <th>FGA</th>\n",
       "      <th>...</th>\n",
       "      <th>ORB</th>\n",
       "      <th>DRB</th>\n",
       "      <th>TRB</th>\n",
       "      <th>AST</th>\n",
       "      <th>STL</th>\n",
       "      <th>BLK</th>\n",
       "      <th>TOV</th>\n",
       "      <th>PF</th>\n",
       "      <th>PTS</th>\n",
       "      <th>Awards</th>\n",
       "    </tr>\n",
       "  </thead>\n",
       "  <tbody>\n",
       "    <tr>\n",
       "      <th>0</th>\n",
       "      <td>1.0</td>\n",
       "      <td>DeMar DeRozan</td>\n",
       "      <td>34.0</td>\n",
       "      <td>CHI</td>\n",
       "      <td>SF</td>\n",
       "      <td>79.0</td>\n",
       "      <td>79.0</td>\n",
       "      <td>2989.0</td>\n",
       "      <td>7.8</td>\n",
       "      <td>16.3</td>\n",
       "      <td>...</td>\n",
       "      <td>0.5</td>\n",
       "      <td>3.6</td>\n",
       "      <td>4.1</td>\n",
       "      <td>5.1</td>\n",
       "      <td>1.1</td>\n",
       "      <td>0.5</td>\n",
       "      <td>1.6</td>\n",
       "      <td>1.9</td>\n",
       "      <td>22.8</td>\n",
       "      <td>CPOY-2</td>\n",
       "    </tr>\n",
       "    <tr>\n",
       "      <th>1</th>\n",
       "      <td>2.0</td>\n",
       "      <td>Domantas Sabonis</td>\n",
       "      <td>27.0</td>\n",
       "      <td>SAC</td>\n",
       "      <td>C</td>\n",
       "      <td>82.0</td>\n",
       "      <td>82.0</td>\n",
       "      <td>2928.0</td>\n",
       "      <td>7.8</td>\n",
       "      <td>13.1</td>\n",
       "      <td>...</td>\n",
       "      <td>3.6</td>\n",
       "      <td>10.2</td>\n",
       "      <td>13.8</td>\n",
       "      <td>8.3</td>\n",
       "      <td>0.9</td>\n",
       "      <td>0.6</td>\n",
       "      <td>3.3</td>\n",
       "      <td>3.1</td>\n",
       "      <td>19.6</td>\n",
       "      <td>MVP-8,DPOY-10,NBA3</td>\n",
       "    </tr>\n",
       "    <tr>\n",
       "      <th>2</th>\n",
       "      <td>3.0</td>\n",
       "      <td>Coby White</td>\n",
       "      <td>23.0</td>\n",
       "      <td>CHI</td>\n",
       "      <td>PG</td>\n",
       "      <td>79.0</td>\n",
       "      <td>78.0</td>\n",
       "      <td>2881.0</td>\n",
       "      <td>6.8</td>\n",
       "      <td>15.1</td>\n",
       "      <td>...</td>\n",
       "      <td>0.5</td>\n",
       "      <td>3.9</td>\n",
       "      <td>4.5</td>\n",
       "      <td>5.1</td>\n",
       "      <td>0.7</td>\n",
       "      <td>0.2</td>\n",
       "      <td>2.1</td>\n",
       "      <td>2.3</td>\n",
       "      <td>18.9</td>\n",
       "      <td>NaN</td>\n",
       "    </tr>\n",
       "    <tr>\n",
       "      <th>3</th>\n",
       "      <td>4.0</td>\n",
       "      <td>Mikal Bridges</td>\n",
       "      <td>27.0</td>\n",
       "      <td>BRK</td>\n",
       "      <td>SF</td>\n",
       "      <td>82.0</td>\n",
       "      <td>82.0</td>\n",
       "      <td>2854.0</td>\n",
       "      <td>7.1</td>\n",
       "      <td>16.3</td>\n",
       "      <td>...</td>\n",
       "      <td>0.9</td>\n",
       "      <td>3.8</td>\n",
       "      <td>4.7</td>\n",
       "      <td>3.8</td>\n",
       "      <td>1.0</td>\n",
       "      <td>0.4</td>\n",
       "      <td>2.1</td>\n",
       "      <td>1.5</td>\n",
       "      <td>20.3</td>\n",
       "      <td>NaN</td>\n",
       "    </tr>\n",
       "    <tr>\n",
       "      <th>4</th>\n",
       "      <td>5.0</td>\n",
       "      <td>Paolo Banchero</td>\n",
       "      <td>21.0</td>\n",
       "      <td>ORL</td>\n",
       "      <td>PF</td>\n",
       "      <td>80.0</td>\n",
       "      <td>80.0</td>\n",
       "      <td>2799.0</td>\n",
       "      <td>8.2</td>\n",
       "      <td>18.1</td>\n",
       "      <td>...</td>\n",
       "      <td>1.1</td>\n",
       "      <td>6.1</td>\n",
       "      <td>7.1</td>\n",
       "      <td>5.5</td>\n",
       "      <td>0.9</td>\n",
       "      <td>0.6</td>\n",
       "      <td>3.2</td>\n",
       "      <td>2.0</td>\n",
       "      <td>23.2</td>\n",
       "      <td>AS</td>\n",
       "    </tr>\n",
       "  </tbody>\n",
       "</table>\n",
       "<p>5 rows × 31 columns</p>\n",
       "</div>"
      ],
      "text/plain": [
       "    Rk            Player   Age Team Pos     G    GS      MP   FG   FGA  ...  \\\n",
       "0  1.0     DeMar DeRozan  34.0  CHI  SF  79.0  79.0  2989.0  7.8  16.3  ...   \n",
       "1  2.0  Domantas Sabonis  27.0  SAC   C  82.0  82.0  2928.0  7.8  13.1  ...   \n",
       "2  3.0        Coby White  23.0  CHI  PG  79.0  78.0  2881.0  6.8  15.1  ...   \n",
       "3  4.0     Mikal Bridges  27.0  BRK  SF  82.0  82.0  2854.0  7.1  16.3  ...   \n",
       "4  5.0    Paolo Banchero  21.0  ORL  PF  80.0  80.0  2799.0  8.2  18.1  ...   \n",
       "\n",
       "   ORB   DRB   TRB  AST  STL  BLK  TOV   PF   PTS              Awards  \n",
       "0  0.5   3.6   4.1  5.1  1.1  0.5  1.6  1.9  22.8              CPOY-2  \n",
       "1  3.6  10.2  13.8  8.3  0.9  0.6  3.3  3.1  19.6  MVP-8,DPOY-10,NBA3  \n",
       "2  0.5   3.9   4.5  5.1  0.7  0.2  2.1  2.3  18.9                 NaN  \n",
       "3  0.9   3.8   4.7  3.8  1.0  0.4  2.1  1.5  20.3                 NaN  \n",
       "4  1.1   6.1   7.1  5.5  0.9  0.6  3.2  2.0  23.2                  AS  \n",
       "\n",
       "[5 rows x 31 columns]"
      ]
     },
     "execution_count": 42,
     "metadata": {},
     "output_type": "execute_result"
    }
   ],
   "source": [
    "player_stats_df = pd.read_csv('nba_player_stats.csv')\n",
    "player_stats_df.head()"
   ]
  },
  {
   "cell_type": "markdown",
   "id": "f9a91032",
   "metadata": {},
   "source": [
    "#### Check missing values"
   ]
  },
  {
   "cell_type": "code",
   "execution_count": 45,
   "id": "4f05e705",
   "metadata": {},
   "outputs": [
    {
     "data": {
      "text/plain": [
       "Rk         11\n",
       "Player     11\n",
       "Age        11\n",
       "Team       11\n",
       "Pos        11\n",
       "G          11\n",
       "GS         11\n",
       "MP         11\n",
       "FG         11\n",
       "FGA        11\n",
       "FG%        19\n",
       "3P         11\n",
       "3PA        11\n",
       "3P%        57\n",
       "2P         11\n",
       "2PA        11\n",
       "2P%        24\n",
       "eFG%       19\n",
       "FT         11\n",
       "FTA        11\n",
       "FT%        70\n",
       "ORB        11\n",
       "DRB        11\n",
       "TRB        11\n",
       "AST        11\n",
       "STL        11\n",
       "BLK        11\n",
       "TOV        11\n",
       "PF         11\n",
       "PTS        11\n",
       "Awards    689\n",
       "dtype: int64"
      ]
     },
     "execution_count": 45,
     "metadata": {},
     "output_type": "execute_result"
    }
   ],
   "source": [
    "player_stats_df.isnull().sum()"
   ]
  },
  {
   "cell_type": "markdown",
   "id": "6aa21dab",
   "metadata": {},
   "source": [
    "#### Check for duplicates"
   ]
  },
  {
   "cell_type": "code",
   "execution_count": 48,
   "id": "cb0f31c8",
   "metadata": {},
   "outputs": [
    {
     "data": {
      "text/plain": [
       "10"
      ]
     },
     "execution_count": 48,
     "metadata": {},
     "output_type": "execute_result"
    }
   ],
   "source": [
    "player_stats_df.duplicated().sum()"
   ]
  },
  {
   "cell_type": "markdown",
   "id": "c62c73f1",
   "metadata": {},
   "source": [
    "#### Check data types"
   ]
  },
  {
   "cell_type": "code",
   "execution_count": 51,
   "id": "d1d51e6f",
   "metadata": {},
   "outputs": [
    {
     "data": {
      "text/plain": [
       "Rk        float64\n",
       "Player     object\n",
       "Age       float64\n",
       "Team       object\n",
       "Pos        object\n",
       "G         float64\n",
       "GS        float64\n",
       "MP        float64\n",
       "FG        float64\n",
       "FGA       float64\n",
       "FG%       float64\n",
       "3P        float64\n",
       "3PA       float64\n",
       "3P%       float64\n",
       "2P        float64\n",
       "2PA       float64\n",
       "2P%       float64\n",
       "eFG%      float64\n",
       "FT        float64\n",
       "FTA       float64\n",
       "FT%       float64\n",
       "ORB       float64\n",
       "DRB       float64\n",
       "TRB       float64\n",
       "AST       float64\n",
       "STL       float64\n",
       "BLK       float64\n",
       "TOV       float64\n",
       "PF        float64\n",
       "PTS       float64\n",
       "Awards     object\n",
       "dtype: object"
      ]
     },
     "execution_count": 51,
     "metadata": {},
     "output_type": "execute_result"
    }
   ],
   "source": [
    "player_stats_df.dtypes"
   ]
  },
  {
   "cell_type": "markdown",
   "id": "5f43a6b9",
   "metadata": {},
   "source": [
    "#### (If needed) Example of fixing a data type or trimming whitespace\n",
    "*(Not applied here if not needed, just demonstrating process.)*"
   ]
  },
  {
   "cell_type": "code",
   "execution_count": 54,
   "id": "06dc3d56",
   "metadata": {},
   "outputs": [],
   "source": [
    "# Example only: Convert a stat column to float if needed\n",
    "# player_stats_df['PTS'] = player_stats_df['PTS'].astype(float)"
   ]
  },
  {
   "cell_type": "markdown",
   "id": "67991569",
   "metadata": {},
   "source": [
    "#### Save checked player stats data"
   ]
  },
  {
   "cell_type": "code",
   "execution_count": 57,
   "id": "ada2c13e",
   "metadata": {},
   "outputs": [],
   "source": [
    "player_stats_df.to_csv('nba_player_stats_checked.csv', index=False)"
   ]
  },
  {
   "cell_type": "markdown",
   "id": "55db835c",
   "metadata": {},
   "source": [
    "## Summary\n",
    "- For each file, I loaded the data and displayed the first few rows to get an overview.\n",
    "- I checked for missing values in all columns. None of the files had missing values, so no action was needed there.\n",
    "- I checked for duplicate rows in each dataset and confirmed there were none.\n",
    "- I reviewed the data types of each column and found that all columns had appropriate types. I included an example of how to fix a type if needed, but did not apply it since it was not necessary.\n",
    "- No advanced cleaning, exclusion, or transformation was done at this stage. The main focus was to check and verify the structure and quality of the raw data files.\n",
    "- For outliers, I did not address them at this point, since the focus was on preparing the raw data. I plan to look at outliers in future steps of my project.\n",
    "\n",
    "Ready to discuss these steps, missing values, and outlier plans in my next mentor call."
   ]
  },
  {
   "cell_type": "code",
   "execution_count": null,
   "id": "0985e031-fde1-43e8-9489-cc42c2b1b937",
   "metadata": {},
   "outputs": [],
   "source": []
  },
  {
   "cell_type": "code",
   "execution_count": null,
   "id": "88e54ace-5b97-422f-8649-0339103beffa",
   "metadata": {},
   "outputs": [],
   "source": []
  }
 ],
 "metadata": {
  "kernelspec": {
   "display_name": "Python [conda env:base] *",
   "language": "python",
   "name": "conda-base-py"
  },
  "language_info": {
   "codemirror_mode": {
    "name": "ipython",
    "version": 3
   },
   "file_extension": ".py",
   "mimetype": "text/x-python",
   "name": "python",
   "nbconvert_exporter": "python",
   "pygments_lexer": "ipython3",
   "version": "3.12.2"
  }
 },
 "nbformat": 4,
 "nbformat_minor": 5
}
