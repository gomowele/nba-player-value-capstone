{
 "cells": [
  {
   "cell_type": "markdown",
   "id": "36982829-e77a-45a8-a783-b23388f9bec9",
   "metadata": {},
   "source": [
    "# Capstone Two: Pre‐processing & Training Data Development\n"
   ]
  },
  {
   "cell_type": "code",
   "execution_count": 59,
   "id": "431a3868-5d69-49ef-a9cb-11b51c658487",
   "metadata": {},
   "outputs": [],
   "source": [
    "# 0) imports\n",
    "\n",
    "import pandas as pd\n",
    "from sklearn.model_selection import train_test_split\n",
    "from sklearn.pipeline       import Pipeline\n",
    "from sklearn.compose        import ColumnTransformer\n",
    "from sklearn.impute         import SimpleImputer\n",
    "from sklearn.preprocessing  import StandardScaler, OneHotEncoder\n"
   ]
  },
  {
   "cell_type": "code",
   "execution_count": 60,
   "id": "34c464da-f5d2-45dc-afb7-010656cfb879",
   "metadata": {},
   "outputs": [],
   "source": [
    "# load the three CSVs\n",
    "adv = pd.read_csv(\"advanced_player_stats_checked.csv\")   # advanced metrics\n",
    "raw = pd.read_csv(\"nba_player_stats_checked.csv\")       # basic stats\n",
    "sal = pd.read_csv(\"nba_salary_checked.csv\")             # salaries\n",
    "\n",
    "\n"
   ]
  },
  {
   "cell_type": "code",
   "execution_count": 61,
   "id": "727823e6-e0e0-4b6d-b359-ea00403f51fa",
   "metadata": {},
   "outputs": [],
   "source": [
    "# Clean the Salary column\n",
    "def clean_currency(x):\n",
    "    if isinstance(x, str):\n",
    "        return float(x.replace('$', '').replace(',', '').strip())\n",
    "    return x\n",
    "\n",
    "df['Salary'] = df['Salary'].apply(clean_currency)\n"
   ]
  },
  {
   "cell_type": "code",
   "execution_count": 63,
   "id": "555fd0a0-4e1b-4a50-bcdc-5950d042a790",
   "metadata": {},
   "outputs": [],
   "source": [
    "# Define X and y, then split\n",
    "y = df['Salary']\n",
    "drop_cols = ['Player','Team','Rk_x','Rk_y','Age_x','Age_y','Pos_x','Pos_y']\n",
    "X = df.drop(columns=drop_cols + ['Salary'])\n"
   ]
  },
  {
   "cell_type": "code",
   "execution_count": 64,
   "id": "f2af3a7a-5941-465d-80ac-251d5047bc4b",
   "metadata": {},
   "outputs": [],
   "source": [
    "#Split into train & test\n",
    "X_train, X_test, y_train, y_test = train_test_split(\n",
    "    X, y, test_size=0.25, random_state=42\n",
    ")\n"
   ]
  },
  {
   "cell_type": "code",
   "execution_count": 65,
   "id": "3072ef08-cfb3-447b-a81e-4e13029b665c",
   "metadata": {},
   "outputs": [],
   "source": [
    "#  Identify which columns are numeric vs. categorical\n",
    "numeric_feats     = X_train.select_dtypes(include=['int64','float64']).columns.tolist()\n",
    "categorical_feats = X_train.select_dtypes(include=['object']).columns.tolist()"
   ]
  },
  {
   "cell_type": "code",
   "execution_count": 66,
   "id": "70e3ea6b-7909-467f-9f7f-57c17f751bf1",
   "metadata": {},
   "outputs": [],
   "source": [
    "# Build preprocessing pipeline\n",
    "numeric_pipeline = Pipeline([\n",
    "    ('imputer', SimpleImputer(strategy='median')),\n",
    "    ('scaler',   StandardScaler())\n",
    "])\n",
    "categorical_pipeline = Pipeline([\n",
    "    ('imputer', SimpleImputer(strategy='most_frequent')),\n",
    "    ('onehot',  OneHotEncoder(handle_unknown='ignore'))\n",
    "])\n",
    "\n",
    "preprocessor = ColumnTransformer([\n",
    "    ('num', numeric_pipeline,     numeric_feats),\n",
    "    ('cat', categorical_pipeline, categorical_feats)\n",
    "])"
   ]
  },
  {
   "cell_type": "code",
   "execution_count": 67,
   "id": "7b9e19f4-5cfc-4a2e-ac17-0e65ee2768c4",
   "metadata": {},
   "outputs": [],
   "source": [
    "#Fit the preprocessor on the training data, transform both sets\n",
    "X_train_proc = preprocessor.fit_transform(X_train)\n",
    "X_test_proc  = preprocessor.transform(X_test)"
   ]
  },
  {
   "cell_type": "code",
   "execution_count": 68,
   "id": "7e40c5e0-48be-4934-894d-8c42d3def596",
   "metadata": {},
   "outputs": [],
   "source": [
    "# 8) Recover column names\n",
    "ohe = preprocessor.named_transformers_['cat']['onehot']\n",
    "dummy_cols = list(ohe.get_feature_names_out(categorical_feats))\n",
    "all_cols   = numeric_feats + dummy_cols\n",
    "\n",
    "X_train_df = pd.DataFrame(X_train_proc, columns=all_cols, index=X_train.index)\n",
    "X_test_df  = pd.DataFrame(X_test_proc,  columns=all_cols, index=X_test.index)"
   ]
  },
  {
   "cell_type": "code",
   "execution_count": 70,
   "id": "4eff3222-c910-4c93-9f38-f08c090c1b47",
   "metadata": {},
   "outputs": [
    {
     "name": "stdout",
     "output_type": "stream",
     "text": [
      "Train set shape (after preprocess): (202, 75)\n",
      "Test set shape (after preprocess): (68, 75)\n",
      "y_train length: 202 y_test length: 68\n"
     ]
    }
   ],
   "source": [
    "# 10) Quick  checks\n",
    "print(\"Train set shape (after preprocess):\", X_train_df.shape)\n",
    "print(\"Test set shape (after preprocess):\", X_test_df.shape)\n",
    "print(\"y_train length:\", len(y_train), \"y_test length:\", len(y_test))"
   ]
  },
  {
   "cell_type": "code",
   "execution_count": null,
   "id": "e5c69aad-cf71-4c20-bbd4-c35cc4aa6e71",
   "metadata": {},
   "outputs": [],
   "source": []
  },
  {
   "cell_type": "code",
   "execution_count": null,
   "id": "bcf80c41-6657-4568-aa40-2a73ea1424c2",
   "metadata": {},
   "outputs": [],
   "source": []
  }
 ],
 "metadata": {
  "kernelspec": {
   "display_name": "Python [conda env:base] *",
   "language": "python",
   "name": "conda-base-py"
  },
  "language_info": {
   "codemirror_mode": {
    "name": "ipython",
    "version": 3
   },
   "file_extension": ".py",
   "mimetype": "text/x-python",
   "name": "python",
   "nbconvert_exporter": "python",
   "pygments_lexer": "ipython3",
   "version": "3.12.7"
  }
 },
 "nbformat": 4,
 "nbformat_minor": 5
}
