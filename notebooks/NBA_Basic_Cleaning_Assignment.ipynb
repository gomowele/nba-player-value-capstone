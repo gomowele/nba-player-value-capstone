{
 "cells": [
  {
   "cell_type": "markdown",
   "id": "e010665e",
   "metadata": {},
   "source": [
    "# NBA Value Data: Basic Cleaning Steps\n",
    "\n",
    "This notebook demonstrates *basic data cleaning steps* using the NBA Value dataset. We'll cover:\n",
    "- Loading the data\n",
    "- Inspecting for missing values, duplicates, and data types\n",
    "- Making any simple corrections if needed\n",
    "\n",
    "**No advanced analysis or exclusions are performed in this notebook, only basic cleaning and documentation.**"
   ]
  },
  {
   "cell_type": "markdown",
   "id": "c45e1abb",
   "metadata": {},
   "source": [
    "## 1. Import libraries\n",
    "We use [pandas](https://pandas.pydata.org/) for data manipulation and [numpy](https://numpy.org/) for basic numerical operations."
   ]
  },
  {
   "cell_type": "code",
   "execution_count": null,
   "id": "8110bc23",
   "metadata": {},
   "outputs": [],
   "source": [
    "import pandas as pd\n",
    "\n",
    "import numpy as np"
   ]
  },
  {
   "cell_type": "markdown",
   "id": "fcf86e06",
   "metadata": {},
   "source": [
    "## 2. Load the dataset\n",
    "We load the NBA value data from the provided CSV file. The `.head()` method shows the first few rows to give an overview of the data."
   ]
  },
  {
   "cell_type": "code",
   "execution_count": null,
   "id": "640b4197",
   "metadata": {},
   "outputs": [],
   "source": [
    "# Update the path if running elsewhere\n",
    "\n",
    "df = pd.read_csv('cleaned_nba_value_data.csv')\n",
    "\n",
    "df.head()"
   ]
  },
  {
   "cell_type": "markdown",
   "id": "55665b7a",
   "metadata": {},
   "source": [
    "## 3. Inspect the data\n",
    "Let's check the shape, columns, and data types of our dataset to understand its structure."
   ]
  },
  {
   "cell_type": "code",
   "execution_count": null,
   "id": "19edaa53",
   "metadata": {},
   "outputs": [],
   "source": [
    "print('Shape:', df.shape)\n",
    "\n",
    "print('Columns:', df.columns.tolist())\n",
    "\n",
    "print('\\nData types:')\n",
    "\n",
    "print(df.dtypes)"
   ]
  },
  {
   "cell_type": "markdown",
   "id": "248156d5",
   "metadata": {},
   "source": [
    "## 4. Check for missing values\n",
    "It's important to identify missing data early on. We use `.isnull().sum()` to see how many missing values are in each column."
   ]
  },
  {
   "cell_type": "code",
   "execution_count": null,
   "id": "699ada61",
   "metadata": {},
   "outputs": [],
   "source": [
    "df.isnull().sum()"
   ]
  },
  {
   "cell_type": "markdown",
   "id": "57eb35c9",
   "metadata": {},
   "source": [
    "## 5. Check for duplicates\n",
    "Duplicate rows can distort analysis, so it's a good practice to check for them. We use `.duplicated().sum()` to count duplicates."
   ]
  },
  {
   "cell_type": "code",
   "execution_count": null,
   "id": "b91e5201",
   "metadata": {},
   "outputs": [],
   "source": [
    "print('Number of duplicate rows:', df.duplicated().sum())"
   ]
  },
  {
   "cell_type": "markdown",
   "id": "09a31a2a",
   "metadata": {},
   "source": [
    "## 6. Basic data type check\n",
    "Correct data types help prevent errors and ensure calculations work as intended. Below, we display the data types again and check if they look appropriate for each column."
   ]
  },
  {
   "cell_type": "code",
   "execution_count": null,
   "id": "39ebbc60",
   "metadata": {},
   "outputs": [],
   "source": [
    "df.dtypes"
   ]
  },
  {
   "cell_type": "markdown",
   "id": "0e88171e",
   "metadata": {},
   "source": [
    "## 7. Example: Data Type Conversion (if needed)\n",
    "If any columns are not the expected type (for example, if salary is stored as a string with symbols), we would convert them to numeric format. In our case, data types already appear correct, but here's how you could convert a column to float as an example:"
   ]
  },
  {
   "cell_type": "code",
   "execution_count": null,
   "id": "4acb5eba",
   "metadata": {},
   "outputs": [],
   "source": [
    "# Example only: If 'Salary' was a string, convert to float\n",
    "\n",
    "# df['Salary'] = df['Salary'].replace('[\\$,]', '', regex=True).astype(float)"
   ]
  },
  {
   "cell_type": "markdown",
   "id": "0f7c8876",
   "metadata": {},
   "source": [
    "## 8. Save cleaned file (optional)\n",
    "If any changes were made, save the cleaned data to a new CSV file."
   ]
  },
  {
   "cell_type": "code",
   "execution_count": null,
   "id": "8f4d4a70",
   "metadata": {},
   "outputs": [],
   "source": [
    "# If you made changes, you could save with:\n",
    "\n",
    "# df.to_csv('nba_value_cleaned_basic.csv', index=False)"
   ]
  },
  {
   "cell_type": "markdown",
   "id": "c7e92309",
   "metadata": {},
   "source": [
    "## Summary for Mentor Discussion\n",
    "- **Cleaning steps performed:**\n",
    "    - Inspected shape, columns, and data types\n",
    "    - Checked for missing values (none found)\n",
    "    - Checked for duplicate rows (none found)\n",
    "    - Confirmed all columns have appropriate data types\n",
    "- **Handling missing values:** None present\n",
    "- **Outliers:** Not assessed at this stage (covered in later lessons)\n",
    "\n",
    "No data was excluded or transformed beyond basic inspection in this assignment, as per instructions."
   ]
  }
 ],
 "metadata": {},
 "nbformat": 4,
 "nbformat_minor": 5
}
